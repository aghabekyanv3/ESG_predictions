{
 "cells": [
  {
   "cell_type": "code",
   "execution_count": null,
   "metadata": {},
   "outputs": [],
   "source": [
    "import pandas as pd\n",
    "import numpy as np\n",
    "import seaborn as sns\n",
    "import matplotlib.pyplot as plt\n",
    "from sklearn.feature_extraction.text import TfidfVectorizer\n",
    "from sklearn.cluster import KMeans\n",
    "from nltk.corpus import stopwords\n",
    "import nltk"
   ]
  },
  {
   "cell_type": "code",
   "execution_count": 5,
   "metadata": {},
   "outputs": [],
   "source": [
    "df = pd.read_csv('with_tfidf.csv')"
   ]
  },
  {
   "cell_type": "code",
   "execution_count": null,
   "metadata": {},
   "outputs": [],
   "source": [
    "from sklearn.preprocessing import LabelEncoder\n",
    "\n",
    "categorical_columns = ['BRAND', 'ID', 'SECTOR', 'PRODUCT CATEGORY', 'COUNTRY', 'BUSINESS MODEL', \n",
    "                       'CONGLOMERATE/Gruppo di riferimento', 'Market segment', 'Core business', \n",
    "                       'Business segment', 'Targets', 'Listing', 'Country', 'Business model', \n",
    "                       'Conglomerate/ Company/ Gruppo di riferimento', 'Non-financial disclosure', \n",
    "                       'Environmental Goal Set']\n",
    "\n",
    "label_value_mapping = []\n",
    "\n",
    "for col in categorical_columns:\n",
    "    df_agg[col] = df_agg[col].fillna('NaN').copy() \n",
    "    le = LabelEncoder()\n",
    "    df_agg[col+'_encoded'] = le.fit_transform(df_agg[col])\n",
    "    label_value_mapping.extend([{'Column': col, \n",
    "                                 'Encoded_Label': encoded_label, \n",
    "                                 'Original_Value': original_value} \n",
    "                                for encoded_label, original_value in enumerate(le.classes_)])\n",
    "\n",
    "label_value_mapping_df = pd.DataFrame(label_value_mapping)\n",
    "\n",
    "print(label_value_mapping_df)\n"
   ]
  },
  {
   "cell_type": "code",
   "execution_count": null,
   "metadata": {},
   "outputs": [],
   "source": [
    "list(df_agg.columns)"
   ]
  },
  {
   "cell_type": "code",
   "execution_count": null,
   "metadata": {},
   "outputs": [],
   "source": [
    "df_encoded = df_agg[['BRAND_encoded',\n",
    " 'ID_encoded',\n",
    " 'SECTOR_encoded',\n",
    " 'PRODUCT CATEGORY_encoded',\n",
    " 'COUNTRY_encoded',\n",
    " 'BUSINESS MODEL_encoded',\n",
    " 'CONGLOMERATE/Gruppo di riferimento_encoded',\n",
    " 'Market segment_encoded',\n",
    " 'Employees',\n",
    " 'Core business_encoded',\n",
    " 'Business segment_encoded',\n",
    " 'Targets_encoded',\n",
    " 'Listing_encoded',\n",
    " 'Country_encoded',\n",
    " 'Business model_encoded',\n",
    " 'Conglomerate/ Company/ Gruppo di riferimento_encoded',\n",
    " 'Non-financial disclosure_encoded',\n",
    " 'Environmental Goal Set_encoded','Total Goals',\n",
    " 'Aggregated_Goals',]]"
   ]
  },
  {
   "cell_type": "code",
   "execution_count": null,
   "metadata": {},
   "outputs": [],
   "source": [
    "df_encoded.head(2)"
   ]
  },
  {
   "cell_type": "code",
   "execution_count": null,
   "metadata": {},
   "outputs": [],
   "source": [
    "from sklearn.impute import SimpleImputer\n",
    "import pandas as pd\n",
    "import numpy as np\n",
    "\n",
    "imputer = SimpleImputer(strategy='median')\n",
    "\n",
    "column_values = df_encoded['Employees'].values.reshape(-1, 1)\n",
    "df_encoded['Employees'] = imputer.fit_transform(column_values)\n",
    "\n",
    "df_encoded.head(2)\n"
   ]
  },
  {
   "cell_type": "code",
   "execution_count": null,
   "metadata": {},
   "outputs": [],
   "source": [
    "# Convert 'Employees' column to integer type\n",
    "df_encoded['Employees'] = df_encoded['Employees'].astype(int)\n"
   ]
  },
  {
   "cell_type": "code",
   "execution_count": null,
   "metadata": {},
   "outputs": [],
   "source": [
    "import nltk\n",
    "from nltk.corpus import stopwords\n",
    "from nltk.tokenize import word_tokenize\n",
    "from sklearn.feature_extraction.text import TfidfVectorizer\n",
    "\n",
    "nltk.download('stopwords')\n",
    "nltk.download('punkt')\n",
    "\n",
    "english_stopwords = set(stopwords.words('english'))\n",
    "italian_stopwords = set(stopwords.words('italian'))\n",
    "\n",
    "all_stopwords = english_stopwords.union(italian_stopwords)\n",
    "\n",
    "def preprocess_text(text):\n",
    "    tokens = word_tokenize(text)\n",
    "    filtered_tokens = [word.lower() for word in tokens if word.isalnum() and word.lower() not in all_stopwords]\n",
    "    return ' '.join(filtered_tokens)\n",
    "\n",
    "df_encoded['Aggregated_Goals_processed'] = df_encoded['Aggregated_Goals'].apply(preprocess_text)"
   ]
  },
  {
   "cell_type": "code",
   "execution_count": null,
   "metadata": {},
   "outputs": [],
   "source": [
    "df_encoded.head(2)"
   ]
  },
  {
   "cell_type": "code",
   "execution_count": null,
   "metadata": {},
   "outputs": [],
   "source": [
    "list(df_encoded_with_tfidf_200.columns)"
   ]
  },
  {
   "cell_type": "code",
   "execution_count": null,
   "metadata": {},
   "outputs": [],
   "source": [
    "from sklearn.feature_extraction.text import TfidfVectorizer\n",
    "\n",
    "tfidf_vect = TfidfVectorizer(max_features=200)\n",
    "\n",
    "X_tfidf_200 = tfidf_vect.fit_transform(df_encoded['Aggregated_Goals_processed'])\n",
    "\n",
    "tfidf_df_200 = pd.DataFrame(X_tfidf_200.toarray(), columns=tfidf_vect.get_feature_names_out())\n",
    "\n",
    "df_encoded.reset_index(drop=True, inplace=True)\n",
    "\n",
    "df_encoded_with_tfidf_200 = pd.concat([df_encoded, tfidf_df_200], axis=1)\n"
   ]
  },
  {
   "cell_type": "code",
   "execution_count": null,
   "metadata": {},
   "outputs": [],
   "source": [
    "df_encoded_with_tfidf_200.head(1)"
   ]
  },
  {
   "cell_type": "code",
   "execution_count": null,
   "metadata": {},
   "outputs": [],
   "source": [
    "df_encoded_with_tfidf_200['Cluster'].value_counts()"
   ]
  },
  {
   "cell_type": "code",
   "execution_count": null,
   "metadata": {},
   "outputs": [],
   "source": [
    "from sklearn.cluster import KMeans\n",
    "\n",
    "kmeans = KMeans(n_clusters=5, random_state=42) \n",
    "clusters = kmeans.fit_predict(X_pca)\n",
    "\n",
    "df_encoded_with_tfidf_200['Cluster'] = clusters\n"
   ]
  },
  {
   "cell_type": "code",
   "execution_count": null,
   "metadata": {},
   "outputs": [],
   "source": [
    "from imblearn.over_sampling import SMOTE\n",
    "from sklearn.model_selection import train_test_split, cross_val_score\n",
    "from sklearn.metrics import classification_report, confusion_matrix\n",
    "from sklearn.neighbors import KNeighborsClassifier\n",
    "from sklearn.naive_bayes import GaussianNB\n",
    "from sklearn.ensemble import RandomForestClassifier\n",
    "from sklearn.tree import DecisionTreeClassifier\n",
    "from sklearn.neural_network import MLPClassifier\n",
    "from sklearn.svm import SVC\n",
    "import pandas as pd\n",
    "import numpy as np\n",
    "\n",
    "X = df_encoded_with_tfidf_200[[\n",
    "    'SECTOR_encoded',\n",
    "    'PRODUCT CATEGORY_encoded',\n",
    "    'COUNTRY_encoded',\n",
    "    'BUSINESS MODEL_encoded',\n",
    "    'CONGLOMERATE/Gruppo di riferimento_encoded',\n",
    "    'Market segment_encoded',\n",
    "    'Employees',\n",
    "    'Core business_encoded',\n",
    "    'Business segment_encoded',\n",
    "    'Targets_encoded',\n",
    "    'Listing_encoded',\n",
    "    'Country_encoded',\n",
    "    'Business model_encoded',\n",
    "    'Conglomerate/ Company/ Gruppo di riferimento_encoded',\n",
    "    'Non-financial disclosure_encoded'\n",
    "]]\n",
    "y = df_encoded_with_tfidf_200['Cluster']\n",
    "\n",
    "X_train, X_test, y_train, y_test = train_test_split(X, y, test_size=0.2, random_state=42, stratify=y)\n",
    "\n",
    "ros = SMOTE(sampling_strategy='auto', k_neighbors=2, random_state=42)\n",
    "X_train_resampled, y_train_resampled = ros.fit_resample(X_train, y_train)\n",
    "\n",
    "classifiers = {\n",
    "    \"k-NN\": KNeighborsClassifier(),\n",
    "    \"Naïve Bayes\": GaussianNB(),\n",
    "    \"J48 Decision Tree\": DecisionTreeClassifier(),\n",
    "    \"Multilayer Perceptron\": MLPClassifier(),\n",
    "    \"Support Vector Machine\": SVC(),\n",
    "    \"Random Forest\" : RandomForestClassifier()\n",
    "}\n",
    "\n",
    "for name, classifier in classifiers.items():\n",
    "    scores = cross_val_score(classifier, X_train_resampled, y_train_resampled, cv=5)\n",
    "    \n",
    "    print(f\"Cross-validation scores for {name}:\")\n",
    "    print(\"Mean:\", np.mean(scores))\n",
    "    print(\"Standard Deviation:\", np.std(scores))\n",
    "    \n",
    "    classifier.fit(X_train_resampled, y_train_resampled)\n",
    "    \n",
    "    y_pred = classifier.predict(X_test)\n",
    "\n",
    "    print(f\"\\nClassification Report for {name}:\")\n",
    "    print(classification_report(y_test, y_pred))\n",
    "    print(f\"Confusion Matrix for {name}:\")\n",
    "    print(confusion_matrix(y_test, y_pred))\n",
    "    print(\"\\n\")\n"
   ]
  },
  {
   "cell_type": "code",
   "execution_count": null,
   "metadata": {},
   "outputs": [],
   "source": [
    "import optuna\n",
    "from sklearn.model_selection import cross_val_score\n",
    "from sklearn.ensemble import RandomForestClassifier\n",
    "\n",
    "def objective(trial):\n",
    "    n_estimators = trial.suggest_int('n_estimators', 50, 200)\n",
    "    max_depth = trial.suggest_int('max_depth', 2, 32, log=True)\n",
    "    min_samples_split = trial.suggest_int('min_samples_split', 2, 20)\n",
    "    min_samples_leaf = trial.suggest_int('min_samples_leaf', 1, 20)\n",
    "\n",
    "    max_features = trial.suggest_categorical('max_features', ['sqrt', 'log2', 'int', 'float'])\n",
    "    if max_features == 'int':\n",
    "        max_features = trial.suggest_int('max_features_int', 1, 20)\n",
    "    elif max_features == 'float':\n",
    "        max_features = trial.suggest_float('max_features_float', 0.1, 0.9)\n",
    "    \n",
    "    clf = RandomForestClassifier(\n",
    "        n_estimators=n_estimators,\n",
    "        max_depth=max_depth,\n",
    "        min_samples_split=min_samples_split,\n",
    "        min_samples_leaf=min_samples_leaf,\n",
    "        max_features=max_features,\n",
    "        random_state=42\n",
    "    )\n",
    "    \n",
    "    scores = cross_val_score(clf, X_train_resampled, y_train_resampled, cv=5)\n",
    "    \n",
    "    return scores.mean()\n",
    "\n",
    "study = optuna.create_study(direction='maximize')\n",
    "study.optimize(objective, n_trials=100)\n",
    "\n",
    "print('Best trial:')\n",
    "trial = study.best_trial\n",
    "print('  Value: {:.3f}'.format(trial.value))\n",
    "print('  Params: ')\n",
    "for key, value in trial.params.items():\n",
    "    print('    {}: {}'.format(key, value))\n"
   ]
  },
  {
   "cell_type": "code",
   "execution_count": null,
   "metadata": {},
   "outputs": [],
   "source": [
    "from sklearn.model_selection import cross_val_score\n",
    "from sklearn.ensemble import RandomForestClassifier\n",
    "from imblearn.over_sampling import SMOTE\n",
    "from imblearn.pipeline import Pipeline\n",
    "from sklearn.model_selection import StratifiedKFold\n",
    "\n",
    "\n",
    "X = df_encoded_with_tfidf_200[[\n",
    "    'SECTOR_encoded',\n",
    "    'PRODUCT CATEGORY_encoded',\n",
    "    'COUNTRY_encoded',\n",
    "    'BUSINESS MODEL_encoded',\n",
    "    'CONGLOMERATE/Gruppo di riferimento_encoded',\n",
    "    'Market segment_encoded',\n",
    "    'Employees',\n",
    "    'Core business_encoded',\n",
    "    'Business segment_encoded',\n",
    "    'Targets_encoded',\n",
    "    'Listing_encoded',\n",
    "    'Country_encoded',\n",
    "    'Business model_encoded',\n",
    "    'Conglomerate/ Company/ Gruppo di riferimento_encoded',\n",
    "    'Non-financial disclosure_encoded'\n",
    "]]\n",
    "y = df_encoded_with_tfidf_200['Cluster']\n",
    "\n",
    "pipeline = Pipeline([\n",
    "    ('SMOTE', SMOTE(sampling_strategy='auto', k_neighbors=2, random_state=42)),\n",
    "    ('RandomForestClassifier', RandomForestClassifier(n_estimators=187,\n",
    "                                                      max_depth=11,\n",
    "                                                      min_samples_split=2,\n",
    "                                                      min_samples_leaf=1,\n",
    "                                                      max_features=0.845665859920012,\n",
    "                                                      random_state=42))\n",
    "])\n",
    "\n",
    "cv = StratifiedKFold(n_splits=5, shuffle=True, random_state=42)\n",
    "\n",
    "scores = cross_val_score(pipeline, X, y, cv=cv, scoring='accuracy')\n",
    "\n",
    "print(\"Cross-validation scores:\", scores)\n",
    "print(\"Mean accuracy:\", scores.mean())\n",
    "print(\"Standard deviation of accuracy:\", scores.std())\n"
   ]
  }
 ],
 "metadata": {
  "kernelspec": {
   "display_name": "Python 3",
   "language": "python",
   "name": "python3"
  },
  "language_info": {
   "codemirror_mode": {
    "name": "ipython",
    "version": 3
   },
   "file_extension": ".py",
   "mimetype": "text/x-python",
   "name": "python",
   "nbconvert_exporter": "python",
   "pygments_lexer": "ipython3",
   "version": "3.11.8"
  }
 },
 "nbformat": 4,
 "nbformat_minor": 2
}
