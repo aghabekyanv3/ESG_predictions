{
 "cells": [
  {
   "cell_type": "code",
   "execution_count": null,
   "metadata": {},
   "outputs": [],
   "source": [
    "import pandas as pd\n",
    "import numpy as np\n",
    "import seaborn as sns\n",
    "import matplotlib.pyplot as plt\n",
    "from sklearn.feature_extraction.text import TfidfVectorizer\n",
    "from sklearn.cluster import KMeans\n",
    "from nltk.corpus import stopwords\n",
    "import nltk"
   ]
  },
  {
   "cell_type": "code",
   "execution_count": null,
   "metadata": {},
   "outputs": [],
   "source": [
    "df = pd.read_csv('df_final.csv')"
   ]
  },
  {
   "cell_type": "code",
   "execution_count": null,
   "metadata": {},
   "outputs": [],
   "source": [
    "aziende_df = pd.read_csv('aziende.csv')\n",
    "esgs_df = pd.read_csv('esgs.csv')"
   ]
  },
  {
   "cell_type": "code",
   "execution_count": null,
   "metadata": {},
   "outputs": [],
   "source": [
    "aziende_df = aziende_df.drop('Unnamed: 0', axis=1)"
   ]
  },
  {
   "cell_type": "code",
   "execution_count": null,
   "metadata": {},
   "outputs": [],
   "source": [
    "aziende_df.head(2)"
   ]
  },
  {
   "cell_type": "code",
   "execution_count": null,
   "metadata": {},
   "outputs": [],
   "source": [
    "esgs_df.head(2)"
   ]
  },
  {
   "cell_type": "code",
   "execution_count": null,
   "metadata": {},
   "outputs": [],
   "source": [
    "# esgs_df = esgs_df.drop('Unnamed: 0', axis=1)\n",
    "esgs_df = esgs_df.transpose()"
   ]
  },
  {
   "cell_type": "code",
   "execution_count": null,
   "metadata": {},
   "outputs": [],
   "source": [
    "esgs_df.rename(columns={'Azione': 'BRAND'}, inplace=True)"
   ]
  },
  {
   "cell_type": "code",
   "execution_count": null,
   "metadata": {},
   "outputs": [],
   "source": [
    "esgs_df.replace(1, 2030)"
   ]
  },
  {
   "cell_type": "code",
   "execution_count": null,
   "metadata": {},
   "outputs": [],
   "source": [
    "df = pd.merge(aziende_df, esgs_df, on='BRAND', how='inner')\n",
    "\n",
    "# Display the first few rows of the merged DataFrame to confirm the merge\n",
    "df.head()"
   ]
  },
  {
   "cell_type": "code",
   "execution_count": null,
   "metadata": {},
   "outputs": [],
   "source": [
    "df.to_csv('df1.csv')"
   ]
  },
  {
   "cell_type": "code",
   "execution_count": null,
   "metadata": {},
   "outputs": [],
   "source": [
    "# Count the number of companies per sector\n",
    "sector_counts = df['SECTOR'].value_counts()\n",
    "\n",
    "# Generate a bar chart for the number of companies per sector\n",
    "plt.figure(figsize=(12, 8))\n",
    "sns.barplot(x=sector_counts.values, y=sector_counts.index, palette=\"viridis\")\n",
    "plt.title('Number of Companies per Sector')\n",
    "plt.xlabel('Number of Companies')\n",
    "plt.ylabel('Sector')\n",
    "plt.show()"
   ]
  },
  {
   "cell_type": "code",
   "execution_count": null,
   "metadata": {},
   "outputs": [],
   "source": [
    "# For demonstration, let's assume there's a column 'Environmental Goal Set' indicating if a company has set any environmental goal.\n",
    "# Since the actual dataset structure for environmental goals is not specified, this step assumes a hypothetical scenario.\n",
    "\n",
    "# Create a hypothetical 'Environmental Goal Set' column for demonstration (replace with actual data logic)\n",
    "df['Environmental Goal Set'] = df.iloc[:, 10:20].notnull().any(axis=1)  # Assuming columns 10 to 20 relate to environmental goals\n",
    "\n",
    "# Count the number of companies with environmental goals set per sector\n",
    "env_goals_by_sector = df.groupby('SECTOR')['Environmental Goal Set'].sum()\n",
    "\n",
    "# Generate a pie chart for the distribution of companies with environmental goals by sector\n",
    "plt.figure(figsize=(10, 7))\n",
    "env_goals_by_sector.plot(kind='pie', autopct='%1.1f%%', startangle=140)\n",
    "plt.title('Distribution of Companies with Environmental Goals by Sector')\n",
    "plt.ylabel('')  # Hide the y-label as it's not needed for a pie chart\n",
    "plt.show()\n"
   ]
  },
  {
   "cell_type": "code",
   "execution_count": null,
   "metadata": {},
   "outputs": [],
   "source": [
    "goal_columns = df.columns[10:20]  # Placeholder for actual environmental goal columns\n",
    "companies_per_goal = df[goal_columns].notnull().sum().sort_values(ascending=False)\n",
    "\n",
    "# Visualize Number of Companies per Goal\n",
    "plt.figure(figsize=(12, 8))\n",
    "sns.barplot(x=companies_per_goal.values, y=companies_per_goal.index, palette=\"coolwarm\")\n",
    "plt.title('Number of Companies per Environmental Goal')\n",
    "plt.xlabel('Number of Companies')\n",
    "plt.ylabel('Environmental Goals')\n",
    "for index, value in enumerate(companies_per_goal.values):\n",
    "    plt.text(value, index, str(value))\n",
    "plt.show()"
   ]
  },
  {
   "cell_type": "code",
   "execution_count": null,
   "metadata": {},
   "outputs": [],
   "source": [
    "# 2. Number of Goals per Company (Top 20)\n",
    "# Calculate the number of goals set by each company\n",
    "goals_per_company = df[goal_columns].notnull().sum(axis=1)\n",
    "df['Total Goals'] = goals_per_company  # Add a total goals column for visualization\n",
    "\n",
    "# Get the top 20 companies with the most goals\n",
    "top_companies = df.nlargest(20, 'Total Goals')\n",
    "\n",
    "# Visualize Number of Goals per Company (Top 20)\n",
    "plt.figure(figsize=(12, 8))\n",
    "sns.barplot(x='Total Goals', y='BRAND', data=top_companies, palette=\"magma\")\n",
    "plt.title('Top 20 Companies by Number of Environmental Goals')\n",
    "plt.xlabel('Number of Environmental Goals')\n",
    "plt.ylabel('Company')\n",
    "for index, value in enumerate(top_companies['Total Goals']):\n",
    "    plt.text(value, index, str(value))\n",
    "plt.show()\n"
   ]
  },
  {
   "cell_type": "code",
   "execution_count": null,
   "metadata": {},
   "outputs": [],
   "source": [
    "# 3. Average Number of Goals per Sector\n",
    "# Calculate the average number of goals set by companies within each sector\n",
    "average_goals_per_sector = df.groupby('SECTOR')['Total Goals'].mean().sort_values(ascending=False)\n",
    "\n",
    "# Visualize Average Number of Goals per Sector\n",
    "plt.figure(figsize=(12, 8))\n",
    "sns.barplot(x=average_goals_per_sector.values, y=average_goals_per_sector.index, palette=\"cubehelix\")\n",
    "plt.title('Average Number of Environmental Goals per Sector')\n",
    "plt.xlabel('Average Number of Environmental Goals')\n",
    "plt.ylabel('Sector')\n",
    "for index, value in enumerate(average_goals_per_sector.values):\n",
    "    plt.text(value, index, f\"{value:.2f}\")\n",
    "plt.show()\n"
   ]
  },
  {
   "cell_type": "code",
   "execution_count": null,
   "metadata": {},
   "outputs": [],
   "source": [
    "from wordcloud import WordCloud, STOPWORDS\n",
    "import matplotlib.pyplot as plt\n",
    "import seaborn as sns\n",
    "from nltk.corpus import stopwords\n",
    "import nltk\n",
    "from collections import Counter\n",
    "import numpy as np\n",
    "\n",
    "# Download NLTK stopwords for English and Italian (run this once)\n",
    "nltk.download('stopwords')\n",
    "\n",
    "# Combine English and Italian stopwords from NLTK\n",
    "stopwords_combined = set(stopwords.words('english')) | set(stopwords.words('italian'))\n",
    "\n",
    "# Example environmental goals (replace with your actual data)\n",
    "goals = df.columns[20:]\n",
    "\n",
    "# Basic Preprocessing: Lowercasing and removing punctuation/stopwords\n",
    "processed_text = ' '.join(goals).lower()  # Lowercase all text\n",
    "tokens = processed_text.split()  # Tokenize by splitting\n",
    "tokens = [word for word in tokens if word not in stopwords_combined]  # Remove stopwords\n",
    "\n",
    "# Generate Word Cloud\n",
    "wordcloud = WordCloud(stopwords=stopwords_combined, background_color=\"white\", max_words=100, width=800, height=400).generate(' '.join(tokens))\n",
    "plt.figure(figsize=(10, 5))\n",
    "plt.imshow(wordcloud, interpolation='bilinear')\n",
    "plt.axis(\"off\")\n",
    "plt.show()\n",
    "\n",
    "# Generate Bar Chart for Top Terms\n",
    "word_counts = Counter(tokens)\n",
    "most_common_words = word_counts.most_common(10)  # Adjust as needed\n",
    "words, frequencies = zip(*most_common_words)\n",
    "\n",
    "plt.figure(figsize=(10, 6))\n",
    "sns.barplot(x=np.array(frequencies), y=np.array(words), palette=\"viridis\")\n",
    "plt.title('Top Terms in Environmental Goals')\n",
    "plt.xlabel('Frequency')\n",
    "plt.ylabel('Terms')\n",
    "for index, value in enumerate(frequencies):\n",
    "    plt.text(value, index, f\" {value}\", va='center')\n",
    "plt.show()\n"
   ]
  },
  {
   "cell_type": "code",
   "execution_count": null,
   "metadata": {},
   "outputs": [],
   "source": [
    "df_dropped = df.dropna(axis=1, how='all')"
   ]
  },
  {
   "cell_type": "code",
   "execution_count": null,
   "metadata": {},
   "outputs": [],
   "source": [
    "df.columns[20]"
   ]
  },
  {
   "cell_type": "code",
   "execution_count": null,
   "metadata": {},
   "outputs": [],
   "source": [
    "df"
   ]
  },
  {
   "cell_type": "code",
   "execution_count": null,
   "metadata": {},
   "outputs": [],
   "source": [
    "# Download and prepare Italian stopwords\n",
    "nltk.download('stopwords')\n",
    "italian_stopwords = stopwords.words('italian')"
   ]
  },
  {
   "cell_type": "code",
   "execution_count": null,
   "metadata": {},
   "outputs": [],
   "source": [
    "goal_columns = df.columns[20:] \n",
    "df['Aggregated_Goals'] = df.apply(lambda x: ', '.join(goal_columns[x[goal_columns].notnull()]), axis=1)\n",
    "df"
   ]
  },
  {
   "cell_type": "code",
   "execution_count": null,
   "metadata": {},
   "outputs": [],
   "source": [
    "vectorizer = TfidfVectorizer(stop_words=italian_stopwords)\n",
    "X = vectorizer.fit_transform(df['Aggregated_Goals'])\n",
    "X"
   ]
  },
  {
   "cell_type": "code",
   "execution_count": null,
   "metadata": {},
   "outputs": [],
   "source": [
    "kmeans = KMeans(n_clusters=5, random_state=42)\n",
    "clusters = kmeans.fit_predict(X)\n",
    "print(clusters)"
   ]
  },
  {
   "cell_type": "code",
   "execution_count": null,
   "metadata": {},
   "outputs": [],
   "source": [
    "# Add cluster labels to the DataFrame\n",
    "df['Cluster'] = clusters\n",
    "\n",
    "### Step 4: Visualization - Number of Brands per Cluster\n",
    "\n",
    "plt.figure(figsize=(10, 6))\n",
    "sns.countplot(x='Cluster', data=df, palette='Set2')\n",
    "plt.title('Distribution of Brands Across Clusters')\n",
    "plt.xlabel('Cluster')\n",
    "plt.ylabel('Number of Brands')\n",
    "plt.show()"
   ]
  },
  {
   "cell_type": "code",
   "execution_count": null,
   "metadata": {},
   "outputs": [],
   "source": [
    "# Summary statistics for each cluster\n",
    "print(df['Cluster'].value_counts())\n",
    "\n",
    "# Proportions of brands in each cluster\n",
    "print(df['Cluster'].value_counts(normalize=True))\n"
   ]
  },
  {
   "cell_type": "code",
   "execution_count": null,
   "metadata": {},
   "outputs": [],
   "source": [
    "for cluster in sorted(df['Cluster'].unique()):\n",
    "    cluster_data = df[df['Cluster'] == cluster]\n",
    "    # Assuming ESG goals were aggregated into a 'Goals' column, replace with actual column names\n",
    "    print(f\"\\nCluster {cluster} common goals:\")\n",
    "    print(cluster_data['Aggregated_Goals'].value_counts().head(5))\n"
   ]
  },
  {
   "cell_type": "code",
   "execution_count": null,
   "metadata": {},
   "outputs": [],
   "source": [
    "sns.scatterplot(\n",
    "    x=df.index,  # Use the DataFrame index as the x value\n",
    "    y='Total Goals',  # Number of goals on the y-axis\n",
    "    hue='Cluster',  # Color by cluster\n",
    "    data=df,\n",
    "    palette='viridis',  # Color palette for clusters\n",
    "    legend='full',  # Include legend to explain colors\n",
    "    s=100  # Size of the markers\n",
    ")\n",
    "plt.title('Visual Map of Brands by Number of Goals and Cluster')\n",
    "plt.xlabel('Brand Index')\n",
    "plt.ylabel('Total Goals')\n",
    "plt.legend(title='Cluster')\n",
    "plt.show()"
   ]
  },
  {
   "cell_type": "code",
   "execution_count": null,
   "metadata": {},
   "outputs": [],
   "source": [
    "sns.set_style(\"whitegrid\")  # Setting seaborn style\n",
    "\n",
    "# Creating the count plot\n",
    "ax = sns.countplot(data=df, x='Cluster', hue='SECTOR')\n",
    "plt.xlabel('Cluster')\n",
    "plt.ylabel('Count')\n",
    "plt.title('Distribution of Sectors in Clusters')\n",
    "plt.xticks(rotation=45)\n",
    "plt.legend(title='Sector')\n",
    "\n",
    "# Adding numbers on the bars\n",
    "for p in ax.patches:\n",
    "    ax.annotate(format(p.get_height(), '.0f'),\n",
    "                (p.get_x() + p.get_width() / 2., p.get_height()),\n",
    "                ha = 'center', va = 'center',\n",
    "                xytext = (0, 9),\n",
    "                textcoords = 'offset points')\n",
    "\n",
    "plt.show()\n"
   ]
  },
  {
   "cell_type": "code",
   "execution_count": null,
   "metadata": {},
   "outputs": [],
   "source": [
    "import pandas as pd\n",
    "df = pd.read_csv('df_final.csv')"
   ]
  },
  {
   "cell_type": "code",
   "execution_count": null,
   "metadata": {},
   "outputs": [],
   "source": [
    "X = df[['SECTOR', 'PRODUCT CATEGORY', 'COUNTRY', 'BUSINESS MODEL', \n",
    "        'CONGLOMERATE/Gruppo di riferimento', 'Market segment', \n",
    "        'Core business', 'Business segment', 'Targets', 'Listing', \n",
    "        'Country', 'Business model', 'Conglomerate/ Company/ Gruppo di riferimento', \n",
    "        'Employees', 'Fatturato (Euro) FY, 2022', 'Utile lordo FY, 2022', \n",
    "        'Utile/perdita FY, 2022', 'Non-financial disclosure']]\n",
    "y = df['Cluster']\n",
    "X_train, X_test, y_train, y_test = train_test_split(X, y, test_size=0.2, random_state=0)\n"
   ]
  },
  {
   "cell_type": "code",
   "execution_count": null,
   "metadata": {},
   "outputs": [],
   "source": [
    "df.isna().sum()"
   ]
  },
  {
   "cell_type": "code",
   "execution_count": null,
   "metadata": {},
   "outputs": [],
   "source": [
    "df_cols = list(df.columns)\n",
    "df_cols"
   ]
  },
  {
   "cell_type": "code",
   "execution_count": null,
   "metadata": {},
   "outputs": [],
   "source": [
    "pred_cols = ['BRAND',\n",
    " 'ID',\n",
    " 'SECTOR',\n",
    " 'PRODUCT CATEGORY',\n",
    " 'COUNTRY',\n",
    " 'BUSINESS MODEL',\n",
    " 'CONGLOMERATE/Gruppo di riferimento',\n",
    " 'Market segment',\n",
    " 'Core business',\n",
    " 'Business segment',\n",
    " 'Targets',\n",
    " 'Listing',\n",
    " 'Country',\n",
    " 'Business model',\n",
    " 'Conglomerate/ Company/ Gruppo di riferimento',\n",
    " 'Employees',\n",
    " 'Fatturato (Euro) FY, 2022',\n",
    " 'Utile lordo FY, 2022',\n",
    " 'Utile/perdita FY, 2022',\n",
    " 'Non-financial disclosure', 'Cluster']\n",
    "df_pred = df[pred_cols]\n",
    "df_pred.head(2)"
   ]
  },
  {
   "cell_type": "code",
   "execution_count": null,
   "metadata": {},
   "outputs": [],
   "source": [
    "from sklearn.preprocessing import LabelEncoder\n",
    "\n",
    "# Identify categorical columns\n",
    "categorical_cols = df_pred.select_dtypes(include=['object', 'category']).columns\n",
    "\n",
    "# Apply LabelEncoder to each categorical column\n",
    "for col in categorical_cols:\n",
    "    le = LabelEncoder()\n",
    "    df_pred[col] = le.fit_transform(df_pred[col].astype(str)) \n"
   ]
  },
  {
   "cell_type": "code",
   "execution_count": null,
   "metadata": {},
   "outputs": [],
   "source": [
    "df1 = pd.read_csv('df_final.csv')"
   ]
  },
  {
   "cell_type": "code",
   "execution_count": null,
   "metadata": {},
   "outputs": [],
   "source": [
    "#df_agg = df1[['BRAND', 'ID', 'SECTOR', 'PRODUCT CATEGORY', 'COUNTRY', 'BUSINESS MODEL', 'CONGLOMERATE/Gruppo di riferimento', 'Market segment', 'Core business', 'Business segment', 'Targets', 'Listing', 'Country', 'Business model', 'Conglomerate/ Company/ Gruppo di riferimento', 'Employees', 'Fatturato (Euro) FY, 2022', 'Utile lordo FY, 2022', 'Utile/perdita FY, 2022', 'Non-financial disclosure', 'Environmental Goal Set', 'Total Goals', 'Aggregated_Goals']]\n",
    "df_agg.head(1)"
   ]
  },
  {
   "cell_type": "code",
   "execution_count": null,
   "metadata": {},
   "outputs": [],
   "source": [
    "from sklearn.preprocessing import LabelEncoder\n",
    "\n",
    "categorical_columns = ['BRAND', 'ID', 'SECTOR', 'PRODUCT CATEGORY', 'COUNTRY', 'BUSINESS MODEL', \n",
    "                       'CONGLOMERATE/Gruppo di riferimento', 'Market segment', 'Core business', \n",
    "                       'Business segment', 'Targets', 'Listing', 'Country', 'Business model', \n",
    "                       'Conglomerate/ Company/ Gruppo di riferimento', 'Non-financial disclosure', \n",
    "                       'Environmental Goal Set']\n",
    "\n",
    "label_value_mapping = []\n",
    "\n",
    "for col in categorical_columns:\n",
    "    df_agg[col] = df_agg[col].fillna('NaN').copy() \n",
    "    le = LabelEncoder()\n",
    "    df_agg[col+'_encoded'] = le.fit_transform(df_agg[col])\n",
    "    label_value_mapping.extend([{'Column': col, \n",
    "                                 'Encoded_Label': encoded_label, \n",
    "                                 'Original_Value': original_value} \n",
    "                                for encoded_label, original_value in enumerate(le.classes_)])\n",
    "\n",
    "label_value_mapping_df = pd.DataFrame(label_value_mapping)\n",
    "\n",
    "print(label_value_mapping_df)\n"
   ]
  },
  {
   "cell_type": "code",
   "execution_count": null,
   "metadata": {},
   "outputs": [],
   "source": [
    "list(df_agg.columns)"
   ]
  },
  {
   "cell_type": "code",
   "execution_count": null,
   "metadata": {},
   "outputs": [],
   "source": [
    "df_encoded = df_agg[['BRAND_encoded',\n",
    " 'ID_encoded',\n",
    " 'SECTOR_encoded',\n",
    " 'PRODUCT CATEGORY_encoded',\n",
    " 'COUNTRY_encoded',\n",
    " 'BUSINESS MODEL_encoded',\n",
    " 'CONGLOMERATE/Gruppo di riferimento_encoded',\n",
    " 'Market segment_encoded',\n",
    " 'Employees',\n",
    " 'Core business_encoded',\n",
    " 'Business segment_encoded',\n",
    " 'Targets_encoded',\n",
    " 'Listing_encoded',\n",
    " 'Country_encoded',\n",
    " 'Business model_encoded',\n",
    " 'Conglomerate/ Company/ Gruppo di riferimento_encoded',\n",
    " 'Non-financial disclosure_encoded',\n",
    " 'Environmental Goal Set_encoded','Total Goals',\n",
    " 'Aggregated_Goals',]]"
   ]
  },
  {
   "cell_type": "code",
   "execution_count": null,
   "metadata": {},
   "outputs": [],
   "source": [
    "df_encoded.head(2)"
   ]
  },
  {
   "cell_type": "code",
   "execution_count": null,
   "metadata": {},
   "outputs": [],
   "source": [
    "from sklearn.impute import SimpleImputer\n",
    "import pandas as pd\n",
    "import numpy as np\n",
    "\n",
    "imputer = SimpleImputer(strategy='median')\n",
    "\n",
    "column_values = df_encoded['Employees'].values.reshape(-1, 1)\n",
    "df_encoded['Employees'] = imputer.fit_transform(column_values)\n",
    "\n",
    "df_encoded.head(2)\n"
   ]
  },
  {
   "cell_type": "code",
   "execution_count": null,
   "metadata": {},
   "outputs": [],
   "source": [
    "# Convert 'Employees' column to integer type\n",
    "df_encoded['Employees'] = df_encoded['Employees'].astype(int)\n"
   ]
  },
  {
   "cell_type": "code",
   "execution_count": null,
   "metadata": {},
   "outputs": [],
   "source": [
    "import nltk\n",
    "from nltk.corpus import stopwords\n",
    "from nltk.tokenize import word_tokenize\n",
    "from sklearn.feature_extraction.text import TfidfVectorizer\n",
    "\n",
    "nltk.download('stopwords')\n",
    "nltk.download('punkt')\n",
    "\n",
    "english_stopwords = set(stopwords.words('english'))\n",
    "italian_stopwords = set(stopwords.words('italian'))\n",
    "\n",
    "all_stopwords = english_stopwords.union(italian_stopwords)\n",
    "\n",
    "def preprocess_text(text):\n",
    "    tokens = word_tokenize(text)\n",
    "    filtered_tokens = [word.lower() for word in tokens if word.isalnum() and word.lower() not in all_stopwords]\n",
    "    return ' '.join(filtered_tokens)\n",
    "\n",
    "df_encoded['Aggregated_Goals_processed'] = df_encoded['Aggregated_Goals'].apply(preprocess_text)"
   ]
  },
  {
   "cell_type": "code",
   "execution_count": null,
   "metadata": {},
   "outputs": [],
   "source": [
    "df_encoded.head(2)"
   ]
  },
  {
   "cell_type": "code",
   "execution_count": null,
   "metadata": {},
   "outputs": [],
   "source": [
    "list(df_encoded_with_tfidf_200.columns)"
   ]
  },
  {
   "cell_type": "code",
   "execution_count": null,
   "metadata": {},
   "outputs": [],
   "source": [
    "from sklearn.feature_extraction.text import TfidfVectorizer\n",
    "\n",
    "tfidf_vect = TfidfVectorizer(max_features=200)\n",
    "\n",
    "X_tfidf_200 = tfidf_vect.fit_transform(df_encoded['Aggregated_Goals_processed'])\n",
    "\n",
    "tfidf_df_200 = pd.DataFrame(X_tfidf_200.toarray(), columns=tfidf_vect.get_feature_names_out())\n",
    "\n",
    "df_encoded.reset_index(drop=True, inplace=True)\n",
    "\n",
    "df_encoded_with_tfidf_200 = pd.concat([df_encoded, tfidf_df_200], axis=1)\n"
   ]
  },
  {
   "cell_type": "code",
   "execution_count": null,
   "metadata": {},
   "outputs": [],
   "source": [
    "df_encoded_with_tfidf_200.head(1)"
   ]
  },
  {
   "cell_type": "code",
   "execution_count": null,
   "metadata": {},
   "outputs": [],
   "source": [
    "df_encoded_with_tfidf_200['Cluster'].value_counts()"
   ]
  },
  {
   "cell_type": "code",
   "execution_count": null,
   "metadata": {},
   "outputs": [],
   "source": [
    "from sklearn.cluster import KMeans\n",
    "\n",
    "kmeans = KMeans(n_clusters=5, random_state=42) \n",
    "clusters = kmeans.fit_predict(X_pca)\n",
    "\n",
    "df_encoded_with_tfidf_200['Cluster'] = clusters\n"
   ]
  },
  {
   "cell_type": "code",
   "execution_count": null,
   "metadata": {},
   "outputs": [],
   "source": [
    "from imblearn.over_sampling import SMOTE\n",
    "from sklearn.model_selection import train_test_split, cross_val_score\n",
    "from sklearn.metrics import classification_report, confusion_matrix\n",
    "from sklearn.neighbors import KNeighborsClassifier\n",
    "from sklearn.naive_bayes import GaussianNB\n",
    "from sklearn.ensemble import RandomForestClassifier\n",
    "from sklearn.tree import DecisionTreeClassifier\n",
    "from sklearn.neural_network import MLPClassifier\n",
    "from sklearn.svm import SVC\n",
    "import pandas as pd\n",
    "import numpy as np\n",
    "\n",
    "X = df_encoded_with_tfidf_200[[\n",
    "    'SECTOR_encoded',\n",
    "    'PRODUCT CATEGORY_encoded',\n",
    "    'COUNTRY_encoded',\n",
    "    'BUSINESS MODEL_encoded',\n",
    "    'CONGLOMERATE/Gruppo di riferimento_encoded',\n",
    "    'Market segment_encoded',\n",
    "    'Employees',\n",
    "    'Core business_encoded',\n",
    "    'Business segment_encoded',\n",
    "    'Targets_encoded',\n",
    "    'Listing_encoded',\n",
    "    'Country_encoded',\n",
    "    'Business model_encoded',\n",
    "    'Conglomerate/ Company/ Gruppo di riferimento_encoded',\n",
    "    'Non-financial disclosure_encoded'\n",
    "]]\n",
    "y = df_encoded_with_tfidf_200['Cluster']\n",
    "\n",
    "X_train, X_test, y_train, y_test = train_test_split(X, y, test_size=0.2, random_state=42, stratify=y)\n",
    "\n",
    "ros = SMOTE(sampling_strategy='auto', k_neighbors=2, random_state=42)\n",
    "X_train_resampled, y_train_resampled = ros.fit_resample(X_train, y_train)\n",
    "\n",
    "classifiers = {\n",
    "    \"k-NN\": KNeighborsClassifier(),\n",
    "    \"Naïve Bayes\": GaussianNB(),\n",
    "    \"J48 Decision Tree\": DecisionTreeClassifier(),\n",
    "    \"Multilayer Perceptron\": MLPClassifier(),\n",
    "    \"Support Vector Machine\": SVC(),\n",
    "    \"Random Forest\" : RandomForestClassifier()\n",
    "}\n",
    "\n",
    "for name, classifier in classifiers.items():\n",
    "    scores = cross_val_score(classifier, X_train_resampled, y_train_resampled, cv=5)\n",
    "    \n",
    "    print(f\"Cross-validation scores for {name}:\")\n",
    "    print(\"Mean:\", np.mean(scores))\n",
    "    print(\"Standard Deviation:\", np.std(scores))\n",
    "    \n",
    "    classifier.fit(X_train_resampled, y_train_resampled)\n",
    "    \n",
    "    y_pred = classifier.predict(X_test)\n",
    "\n",
    "    print(f\"\\nClassification Report for {name}:\")\n",
    "    print(classification_report(y_test, y_pred))\n",
    "    print(f\"Confusion Matrix for {name}:\")\n",
    "    print(confusion_matrix(y_test, y_pred))\n",
    "    print(\"\\n\")\n"
   ]
  },
  {
   "cell_type": "code",
   "execution_count": null,
   "metadata": {},
   "outputs": [],
   "source": [
    "import optuna\n",
    "from sklearn.model_selection import cross_val_score\n",
    "from sklearn.ensemble import RandomForestClassifier\n",
    "\n",
    "def objective(trial):\n",
    "    n_estimators = trial.suggest_int('n_estimators', 50, 200)\n",
    "    max_depth = trial.suggest_int('max_depth', 2, 32, log=True)\n",
    "    min_samples_split = trial.suggest_int('min_samples_split', 2, 20)\n",
    "    min_samples_leaf = trial.suggest_int('min_samples_leaf', 1, 20)\n",
    "\n",
    "    max_features = trial.suggest_categorical('max_features', ['sqrt', 'log2', 'int', 'float'])\n",
    "    if max_features == 'int':\n",
    "        max_features = trial.suggest_int('max_features_int', 1, 20)\n",
    "    elif max_features == 'float':\n",
    "        max_features = trial.suggest_float('max_features_float', 0.1, 0.9)\n",
    "    \n",
    "    clf = RandomForestClassifier(\n",
    "        n_estimators=n_estimators,\n",
    "        max_depth=max_depth,\n",
    "        min_samples_split=min_samples_split,\n",
    "        min_samples_leaf=min_samples_leaf,\n",
    "        max_features=max_features,\n",
    "        random_state=42\n",
    "    )\n",
    "    \n",
    "    scores = cross_val_score(clf, X_train_resampled, y_train_resampled, cv=5)\n",
    "    \n",
    "    return scores.mean()\n",
    "\n",
    "study = optuna.create_study(direction='maximize')\n",
    "study.optimize(objective, n_trials=100)\n",
    "\n",
    "print('Best trial:')\n",
    "trial = study.best_trial\n",
    "print('  Value: {:.3f}'.format(trial.value))\n",
    "print('  Params: ')\n",
    "for key, value in trial.params.items():\n",
    "    print('    {}: {}'.format(key, value))\n"
   ]
  },
  {
   "cell_type": "code",
   "execution_count": null,
   "metadata": {},
   "outputs": [],
   "source": [
    "from sklearn.model_selection import cross_val_score\n",
    "from sklearn.ensemble import RandomForestClassifier\n",
    "from imblearn.over_sampling import SMOTE\n",
    "from imblearn.pipeline import Pipeline\n",
    "from sklearn.model_selection import StratifiedKFold\n",
    "\n",
    "\n",
    "X = df_encoded_with_tfidf_200[[\n",
    "    'SECTOR_encoded',\n",
    "    'PRODUCT CATEGORY_encoded',\n",
    "    'COUNTRY_encoded',\n",
    "    'BUSINESS MODEL_encoded',\n",
    "    'CONGLOMERATE/Gruppo di riferimento_encoded',\n",
    "    'Market segment_encoded',\n",
    "    'Employees',\n",
    "    'Core business_encoded',\n",
    "    'Business segment_encoded',\n",
    "    'Targets_encoded',\n",
    "    'Listing_encoded',\n",
    "    'Country_encoded',\n",
    "    'Business model_encoded',\n",
    "    'Conglomerate/ Company/ Gruppo di riferimento_encoded',\n",
    "    'Non-financial disclosure_encoded'\n",
    "]]\n",
    "y = df_encoded_with_tfidf_200['Cluster']\n",
    "\n",
    "pipeline = Pipeline([\n",
    "    ('SMOTE', SMOTE(sampling_strategy='auto', k_neighbors=2, random_state=42)),\n",
    "    ('RandomForestClassifier', RandomForestClassifier(n_estimators=187,\n",
    "                                                      max_depth=11,\n",
    "                                                      min_samples_split=2,\n",
    "                                                      min_samples_leaf=1,\n",
    "                                                      max_features=0.845665859920012,\n",
    "                                                      random_state=42))\n",
    "])\n",
    "\n",
    "cv = StratifiedKFold(n_splits=5, shuffle=True, random_state=42)\n",
    "\n",
    "scores = cross_val_score(pipeline, X, y, cv=cv, scoring='accuracy')\n",
    "\n",
    "print(\"Cross-validation scores:\", scores)\n",
    "print(\"Mean accuracy:\", scores.mean())\n",
    "print(\"Standard deviation of accuracy:\", scores.std())\n"
   ]
  }
 ],
 "metadata": {
  "kernelspec": {
   "display_name": "Python 3",
   "language": "python",
   "name": "python3"
  },
  "language_info": {
   "codemirror_mode": {
    "name": "ipython",
    "version": 3
   },
   "file_extension": ".py",
   "mimetype": "text/x-python",
   "name": "python",
   "nbconvert_exporter": "python",
   "pygments_lexer": "ipython3",
   "version": "3.11.8"
  }
 },
 "nbformat": 4,
 "nbformat_minor": 2
}
